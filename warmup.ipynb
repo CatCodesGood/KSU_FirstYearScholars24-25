{
 "cells": [
  {
   "cell_type": "markdown",
   "id": "21599fb3-326e-40ed-9a9b-5746acab3690",
   "metadata": {},
   "source": [
    "# Warmup\n",
    "\n",
    "To execute a \"cell\" of a Jupyter lab notebook, simple choose it and press SHIFT-ENTER!"
   ]
  },
  {
   "cell_type": "code",
   "execution_count": 1,
   "id": "6c3be9c2-6945-4d52-bc59-db54a6e551ec",
   "metadata": {},
   "outputs": [
    {
     "name": "stdout",
     "output_type": "stream",
     "text": [
      "Hello World!\n"
     ]
    }
   ],
   "source": [
    "# Let's start with a warmup: \n",
    "# Print out \"Hello World!\" to the screen.\n",
    "\n",
    "print('Hello World!')"
   ]
  },
  {
   "cell_type": "code",
   "execution_count": 2,
   "id": "56b97e46-1531-4530-a784-17e2158a470a",
   "metadata": {},
   "outputs": [
    {
     "name": "stdout",
     "output_type": "stream",
     "text": [
      "1.0\n"
     ]
    }
   ],
   "source": [
    "# Let's now import a module to handle math:\n",
    "import math\n",
    "\n",
    "# and print the sine of pi/2:\n",
    "x = math.sin(math.pi/2)\n",
    "print(x)"
   ]
  },
  {
   "cell_type": "code",
   "execution_count": 6,
   "id": "981acaa4-6b9f-4a42-bb92-08c7e401a3d2",
   "metadata": {},
   "outputs": [
    {
     "name": "stdout",
     "output_type": "stream",
     "text": [
      "0.0\n",
      "0.1645945902807339\n",
      "0.32469946920468346\n",
      "0.4759473930370735\n",
      "0.6142127126896678\n",
      "0.7357239106731316\n",
      "0.8371664782625285\n",
      "0.9157733266550574\n",
      "0.9694002659393304\n",
      "0.9965844930066698\n",
      "0.9965844930066698\n",
      "0.9694002659393304\n",
      "0.9157733266550575\n",
      "0.8371664782625287\n",
      "0.7357239106731318\n",
      "0.6142127126896679\n",
      "0.4759473930370737\n",
      "0.3246994692046836\n",
      "0.16459459028073403\n",
      "1.2246467991473532e-16\n"
     ]
    }
   ],
   "source": [
    "# Another useful module is \"NumPy\" -- i.e. numerical Python. Let's import that:\n",
    "import numpy as np\n",
    "\n",
    "# and then use it to create an array from 0 to pi:\n",
    "theta = np.linspace(0, math.pi, 20) # 20 is the number of intervals to split [0,2pi] in.\n",
    "\n",
    "# we can now \"loop\" over the theta array and print the sine of each value:\n",
    "for th in theta: # this creates a variable \"th\" which represents each element of theta\n",
    "    print(math.sin(th))\n",
    "\n"
   ]
  },
  {
   "cell_type": "code",
   "execution_count": 7,
   "id": "69ddf90b-0eac-46a6-b52c-dbe5708740d2",
   "metadata": {},
   "outputs": [
    {
     "name": "stdout",
     "output_type": "stream",
     "text": [
      "0.0\n",
      "0.1645945902807339\n",
      "0.32469946920468346\n",
      "0.4759473930370735\n",
      "0.6142127126896678\n",
      "0.7357239106731316\n",
      "0.8371664782625285\n",
      "0.9157733266550574\n",
      "0.9694002659393304\n",
      "0.9965844930066698\n",
      "0.9965844930066698\n",
      "0.9694002659393304\n",
      "0.9157733266550575\n",
      "0.8371664782625287\n",
      "0.7357239106731318\n",
      "0.6142127126896679\n",
      "0.4759473930370737\n",
      "0.3246994692046836\n",
      "0.16459459028073403\n",
      "1.2246467991473532e-16\n"
     ]
    }
   ],
   "source": [
    "# you can also use numpy directly to calculate create another array full of the sines of theta and then print that!\n",
    "sintheta = np.sin(theta)\n",
    "\n",
    "# now loop through sintheta and print:\n",
    "for sinth in sintheta:\n",
    "    print(sinth)\n"
   ]
  },
  {
   "cell_type": "code",
   "execution_count": 8,
   "id": "2f5a74e1-6068-482a-b160-efa00625f0a8",
   "metadata": {},
   "outputs": [],
   "source": [
    "# Let's try to implement the hit-or-miss Monte Carlo to calculate pi (circle in square!)"
   ]
  },
  {
   "cell_type": "code",
   "execution_count": null,
   "id": "2ac53d0c-418f-4cc3-ac2a-dd88b08c6038",
   "metadata": {},
   "outputs": [],
   "source": []
  }
 ],
 "metadata": {
  "kernelspec": {
   "display_name": "commphy",
   "language": "python",
   "name": "commphy"
  },
  "language_info": {
   "codemirror_mode": {
    "name": "ipython",
    "version": 3
   },
   "file_extension": ".py",
   "mimetype": "text/x-python",
   "name": "python",
   "nbconvert_exporter": "python",
   "pygments_lexer": "ipython3",
   "version": "3.11.7"
  }
 },
 "nbformat": 4,
 "nbformat_minor": 5
}
