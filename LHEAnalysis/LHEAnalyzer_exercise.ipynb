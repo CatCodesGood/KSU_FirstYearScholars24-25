{
 "cells": [
  {
   "cell_type": "markdown",
   "id": "baf23e11-a04a-4b27-880f-4fd01ea44148",
   "metadata": {},
   "source": [
    "*Exercise*: Your goal is to use the simulated event file (```mumu_eta0mumu.lhe```), and following the method described below for the transverse momentum of a muon, to calculate the invariant mass of muon pairs through all the events.\n",
    "\n",
    "The code provides a lot of automation. I added comments below to help you understand what is happening."
   ]
  },
  {
   "cell_type": "markdown",
   "id": "b1918de7-2b59-47f7-8be9-79f8738b4416",
   "metadata": {},
   "source": [
    "You don't need to modify anything in the next block of code. It simply selects the given input file."
   ]
  },
  {
   "cell_type": "code",
   "execution_count": 1,
   "id": "7a6cd23d-1c2c-4ba0-9df8-4d9e02df1008",
   "metadata": {},
   "outputs": [
    {
     "name": "stdout",
     "output_type": "stream",
     "text": [
      "Intel MKL WARNING: Support of Intel(R) Streaming SIMD Extensions 4.2 (Intel(R) SSE4.2) enabled only processors has been deprecated. Intel oneAPI Math Kernel Library 2025.0 will require Intel(R) Advanced Vector Extensions (Intel(R) AVX) instructions.\n",
      "Intel MKL WARNING: Support of Intel(R) Streaming SIMD Extensions 4.2 (Intel(R) SSE4.2) enabled only processors has been deprecated. Intel oneAPI Math Kernel Library 2025.0 will require Intel(R) Advanced Vector Extensions (Intel(R) AVX) instructions.\n"
     ]
    }
   ],
   "source": [
    "# import module for reading LHE files:\n",
    "from LHEReader import *\n",
    "\n",
    "###########################################################\n",
    "# Handle the input here. \n",
    "# The default output file tag (i.e. extension) is 'output'.\n",
    "###########################################################\n",
    "\n",
    "\n",
    "# the input file names:\n",
    "inputfile = 'mumu_eta0mumu.lhe'\n",
    "\n",
    "# output filename tag\n",
    "outputfiletag = ''"
   ]
  },
  {
   "cell_type": "markdown",
   "id": "1c083c9c-5750-468d-9a1b-72c5000c1ddf",
   "metadata": {},
   "source": [
    "The next block of code defines the analysis function. In this case, the function:\n",
    "\n",
    "```analyze(events, weights)```\n",
    "\n",
    "takes all the events as input through the ```events``` list and examines them, by looping through all the particles in each event, to perform various actions. Do not worry about the ```weight``` input at this point, this is simply a list of 1.0's.\n",
    "\n",
    "See below in the code on instructions on how to add the di-muon invariant mass."
   ]
  },
  {
   "cell_type": "code",
   "execution_count": 3,
   "id": "4d34bd6f-9b1c-49b1-99dc-e0770421a069",
   "metadata": {},
   "outputs": [],
   "source": [
    "############################################################\n",
    "# Define your ANALYSIS function here!\n",
    "# The example looks for the new particle with pdg id \"13\", i.e. a muon\n",
    "# and calculates its transverse momentum.\n",
    "# For each observable we wish to return, we must add it to\n",
    "# the dictionary \"output_dictionary\" as in the example below.\n",
    "#############################################################\n",
    "def analyze(events, weights):\n",
    "    # a dictionary that contains the arrays that we wish to plot\n",
    "    output_dictionary = {}\n",
    "    # construct the observables by putting emtpy arrays into the dictionary\n",
    "    # here, we have defined an empty entry into the dictionary, which we call pt, which corresponds to an empty list: []\n",
    "    output_dictionary['pt'] = []\n",
    "    # EXERCISE: To *ADD* an obserbable, you simply need to define a new \"empty\" entry in the dictionary, e.g. output_dictionary['minv'] = []\n",
    "    # DO THIS HERE:\n",
    "\n",
    "\n",
    "    # In the given example, the transverse momentum of either a muon or anti-muon is calculated. \n",
    "    # in our case, we would need to find the muon and the anti-muon in each event, and save them. \n",
    "    # then, at the end of the loop for each event, we will use the two saved particles to calculate their invariant mass\n",
    "    # Note the p entry in particles has the form: \n",
    "    # p[0]: the id of the particle. In our case, 13 for a muon, -13 for an anti-muon\n",
    "    # p[1]: the status code of the particle (don't worry about this right now)\n",
    "    # p[2], p[3], p[4]: the px, py, pz of the particle\n",
    "    # p[5]: the energy of the particle\n",
    "    # p[6]: the mass of the particle\n",
    "    \n",
    "    # loop over the events:\n",
    "    for iev, particles in tqdm(enumerate(events)):\n",
    "        # EXERCISE: first define an empty list of muons (and anti-muons): e.g. muons = []\n",
    "        \n",
    "        # loop over the particles in the event:\n",
    "        for p in particles:\n",
    "            if abs(p[0])==13: # found a muon or anti-muon\n",
    "                pt = math.sqrt(p[2]**2 + p[3]**2) # this is the transverse momentum, calculated for the *current event*\n",
    "                output_dictionary['pt'].append(pt) # then added to the appropriate entry in the dictionary\n",
    "                # EXERCISE: \"append\" the found muon, represented by p into \"muons\" e.g. muons.append(p)\n",
    "                    \n",
    "        # EXERCISE: after the loop over particles has ended, you should have a muon and an anti-muon in \"muons\".\n",
    "        # use the two entries below to calculate their pair invariant mass, as we discussed in the hand-written notes:\n",
    "        # remember, e.g. the px component of the first muon would be muons[0][2], e.g. the energy component of the second muon would be muons[1][5] and so on.\n",
    "        # minv = ...\n",
    "\n",
    "        # then push the minv into the appropriate dictionary entry that you have defined above:\n",
    "        # output_dictionary['minv'].append(minv)\n",
    "        \n",
    "        \n",
    "    return output_dictionary\n",
    "\n",
    "\n",
    "\n",
    "\n"
   ]
  },
  {
   "cell_type": "markdown",
   "id": "10162faf-66f7-4162-acb1-e90523e86dfe",
   "metadata": {},
   "source": [
    "At this point, you should have analysis code that works! All we need to do now is plot things. \n",
    "\n",
    "Follow the instructions below to see how to do this. "
   ]
  },
  {
   "cell_type": "code",
   "execution_count": 5,
   "id": "efca45b7-c125-4301-a791-e2aae1dc7e4a",
   "metadata": {},
   "outputs": [
    {
     "name": "stdout",
     "output_type": "stream",
     "text": [
      "Reading mumu_eta0mumu.lhe\n"
     ]
    },
    {
     "name": "stderr",
     "output_type": "stream",
     "text": [
      "10000it [00:00, 431521.64it/s]"
     ]
    },
    {
     "name": "stdout",
     "output_type": "stream",
     "text": [
      "---\n",
      "plotting pt\n",
      "saving the figure\n",
      "output in pt.pdf\n"
     ]
    },
    {
     "name": "stderr",
     "output_type": "stream",
     "text": [
      "\n"
     ]
    },
    {
     "data": {
      "image/png": "[encoded data removed]",
      "text/plain": [
       "<Figure size 640x480 with 1 Axes>"
      ]
     },
     "metadata": {},
     "output_type": "display_data"
    }
   ],
   "source": [
    "#######################################\n",
    "# PERFORM THE ANALYSIS AND PLOT HERE:\n",
    "#######################################\n",
    "\n",
    "# read the LHE File\n",
    "print('Reading', inputfile)\n",
    "events, weights, multiweights = readlhefile(inputfile)\n",
    "# analyze the events by passing them to the analysis fuinction defined above\n",
    "output = analyze(events, weights)\n",
    "\n",
    "# set the cross section:\n",
    "CrossSection = [1.0]\n",
    "\n",
    "# plot all the variables in the output dictionary. \n",
    "# here as an example we are plotting the muon (or anti-muon) pT\n",
    "# Note that \"histogram_multi\" takes as input in DATA_array an array of data points,\n",
    "# hence the extra [] there and in the plotnames_multi\n",
    "histogram_multi_xsec([output['pt']], CrossSection, 'pt', ['mumumu'], r'$p_T$ [GeV]', title=r'$\\mu^+\\mu^- \\rightarrow \\mu^+ \\mu^-$', ylabel='cross section [pb]/bin', custom_bins=np.arange(0,500, 50))\n",
    "\n",
    "# EXERCISE: replicate the above, replacing 'pt' with 'minv'. Note that the range of the histogram is defined by custom_bins=np.arange(0,500, 50): i.e. a range of 0 to 500 GeV, in bins of 50 GeV. "
   ]
  },
  {
   "cell_type": "code",
   "execution_count": null,
   "id": "df9b28ae-6995-4dce-acac-84fab7b67f82",
   "metadata": {},
   "outputs": [],
   "source": []
  }
 ],
 "metadata": {
  "kernelspec": {
   "display_name": "Python 3 (ipykernel)",
   "language": "python",
   "name": "python3"
  },
  "language_info": {
   "codemirror_mode": {
    "name": "ipython",
    "version": 3
   },
   "file_extension": ".py",
   "mimetype": "text/x-python",
   "name": "python",
   "nbconvert_exporter": "python",
   "pygments_lexer": "ipython3",
   "version": "3.12.7"
  }
 },
 "nbformat": 4,
 "nbformat_minor": 5
}
